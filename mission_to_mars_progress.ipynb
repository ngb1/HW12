{
 "cells": [
  {
   "cell_type": "code",
   "execution_count": 1,
   "metadata": {},
   "outputs": [],
   "source": [
    "#importing python libraries\n",
    "import pandas as pd\n",
    "from splinter import Browser\n",
    "from splinter.exceptions import ElementDoesNotExist\n",
    "from bs4 import BeautifulSoup"
   ]
  },
  {
   "cell_type": "markdown",
   "metadata": {},
   "source": [
    "# NASA Mars News"
   ]
  },
  {
   "cell_type": "code",
   "execution_count": 2,
   "metadata": {},
   "outputs": [],
   "source": [
    "#setting up url\n",
    "url = \"https://mars.nasa.gov/news/\""
   ]
  },
  {
   "cell_type": "code",
   "execution_count": 3,
   "metadata": {},
   "outputs": [],
   "source": [
    "#opening website in chrome for scraping\n",
    "executable_path = {'executable_path': 'chromedriver.exe'}\n",
    "browser = Browser('chrome', **executable_path, headless=False)"
   ]
  },
  {
   "cell_type": "code",
   "execution_count": 4,
   "metadata": {},
   "outputs": [],
   "source": [
    "#using visit attribute to explore the url\n",
    "browser.visit(url)"
   ]
  },
  {
   "cell_type": "code",
   "execution_count": 5,
   "metadata": {},
   "outputs": [
    {
     "data": {
      "text/plain": [
       "['__class__',\n",
       " '__delattr__',\n",
       " '__dict__',\n",
       " '__dir__',\n",
       " '__doc__',\n",
       " '__enter__',\n",
       " '__eq__',\n",
       " '__exit__',\n",
       " '__format__',\n",
       " '__ge__',\n",
       " '__getattribute__',\n",
       " '__gt__',\n",
       " '__hash__',\n",
       " '__init__',\n",
       " '__init_subclass__',\n",
       " '__le__',\n",
       " '__lt__',\n",
       " '__module__',\n",
       " '__ne__',\n",
       " '__new__',\n",
       " '__reduce__',\n",
       " '__reduce_ex__',\n",
       " '__repr__',\n",
       " '__setattr__',\n",
       " '__sizeof__',\n",
       " '__str__',\n",
       " '__subclasshook__',\n",
       " '__weakref__',\n",
       " '_cookie_manager',\n",
       " 'attach_file',\n",
       " 'back',\n",
       " 'check',\n",
       " 'choose',\n",
       " 'click_link_by_href',\n",
       " 'click_link_by_id',\n",
       " 'click_link_by_partial_href',\n",
       " 'click_link_by_partial_text',\n",
       " 'click_link_by_text',\n",
       " 'cookies',\n",
       " 'driver',\n",
       " 'driver_name',\n",
       " 'element_class',\n",
       " 'evaluate_script',\n",
       " 'execute_script',\n",
       " 'fill',\n",
       " 'fill_form',\n",
       " 'find_by',\n",
       " 'find_by_css',\n",
       " 'find_by_id',\n",
       " 'find_by_name',\n",
       " 'find_by_tag',\n",
       " 'find_by_text',\n",
       " 'find_by_value',\n",
       " 'find_by_xpath',\n",
       " 'find_link_by_href',\n",
       " 'find_link_by_partial_href',\n",
       " 'find_link_by_partial_text',\n",
       " 'find_link_by_text',\n",
       " 'find_option_by_text',\n",
       " 'find_option_by_value',\n",
       " 'forward',\n",
       " 'full_screen',\n",
       " 'get_alert',\n",
       " 'get_iframe',\n",
       " 'html',\n",
       " 'html_snapshot',\n",
       " 'is_element_not_present',\n",
       " 'is_element_not_present_by_css',\n",
       " 'is_element_not_present_by_id',\n",
       " 'is_element_not_present_by_name',\n",
       " 'is_element_not_present_by_tag',\n",
       " 'is_element_not_present_by_text',\n",
       " 'is_element_not_present_by_value',\n",
       " 'is_element_not_present_by_xpath',\n",
       " 'is_element_not_visible',\n",
       " 'is_element_not_visible_by_css',\n",
       " 'is_element_not_visible_by_xpath',\n",
       " 'is_element_present',\n",
       " 'is_element_present_by_css',\n",
       " 'is_element_present_by_id',\n",
       " 'is_element_present_by_name',\n",
       " 'is_element_present_by_tag',\n",
       " 'is_element_present_by_text',\n",
       " 'is_element_present_by_value',\n",
       " 'is_element_present_by_xpath',\n",
       " 'is_element_visible',\n",
       " 'is_element_visible_by_css',\n",
       " 'is_element_visible_by_xpath',\n",
       " 'is_text_not_present',\n",
       " 'is_text_present',\n",
       " 'ori_window_size',\n",
       " 'quit',\n",
       " 'recover_screen',\n",
       " 'reload',\n",
       " 'screenshot',\n",
       " 'select',\n",
       " 'select_by_text',\n",
       " 'status_code',\n",
       " 'title',\n",
       " 'type',\n",
       " 'uncheck',\n",
       " 'url',\n",
       " 'visit',\n",
       " 'wait_time',\n",
       " 'windows']"
      ]
     },
     "execution_count": 5,
     "metadata": {},
     "output_type": "execute_result"
    }
   ],
   "source": [
    "#checking available attributes\n",
    "dir(browser)"
   ]
  },
  {
   "cell_type": "code",
   "execution_count": 51,
   "metadata": {},
   "outputs": [
    {
     "name": "stdout",
     "output_type": "stream",
     "text": [
      "August 28, 2019\n",
      "NASA Invites Students to Name Mars 2020 Rover\n",
      "Through Nov. 1, K-12 students in the U.S. are encouraged to enter an essay contest to name NASA's next Mars rover.\n"
     ]
    }
   ],
   "source": [
    "#scraping news, date, title and paragraph (p), saving as variables for later as requested\n",
    "news = soup.find(\"div\", class_='list_text')\n",
    "news_date = news.find(\"div\", class_ =\"list_date\").text\n",
    "news_title = news.find(\"div\", class_=\"content_title\").text\n",
    "news_p = news.find(\"div\", class_ =\"article_teaser_body\").text\n",
    "print(news_date)\n",
    "print(news_title)\n",
    "print(news_p)"
   ]
  },
  {
   "cell_type": "markdown",
   "metadata": {},
   "source": [
    "# JPL Mars Space Images - Featured Image\n"
   ]
  },
  {
   "cell_type": "code",
   "execution_count": 64,
   "metadata": {},
   "outputs": [],
   "source": [
    "#opening new chrome page to scrape images\n",
    "executable_path = {'executable_path': 'chromedriver.exe'}\n",
    "browser = Browser('chrome', **executable_path, headless=False)"
   ]
  },
  {
   "cell_type": "code",
   "execution_count": 66,
   "metadata": {},
   "outputs": [],
   "source": [
    "#configuring url\n",
    "featured_image_url = 'https://www.jpl.nasa.gov/spaceimages/?search=&category=Mars'\n",
    "browser.visit(featured_image_url)"
   ]
  },
  {
   "cell_type": "code",
   "execution_count": 83,
   "metadata": {},
   "outputs": [
    {
     "name": "stdout",
     "output_type": "stream",
     "text": [
      "None\n"
     ]
    }
   ],
   "source": [
    "bs = BeautifulSoup(html, 'html.parser')\n",
    "featured_image = bs.find('img', {'src':'.jpg'})\n",
    "print(featured_image)"
   ]
  },
  {
   "cell_type": "code",
   "execution_count": null,
   "metadata": {},
   "outputs": [],
   "source": []
  }
 ],
 "metadata": {
  "kernelspec": {
   "display_name": "Python 3",
   "language": "python",
   "name": "python3"
  },
  "language_info": {
   "codemirror_mode": {
    "name": "ipython",
    "version": 3
   },
   "file_extension": ".py",
   "mimetype": "text/x-python",
   "name": "python",
   "nbconvert_exporter": "python",
   "pygments_lexer": "ipython3",
   "version": "3.7.3"
  }
 },
 "nbformat": 4,
 "nbformat_minor": 2
}
